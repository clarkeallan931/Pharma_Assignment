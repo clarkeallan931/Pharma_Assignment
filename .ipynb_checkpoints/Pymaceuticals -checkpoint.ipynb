{
 "cells": [
  {
   "cell_type": "code",
   "execution_count": 1,
   "id": "f70938a9",
   "metadata": {},
   "outputs": [],
   "source": [
    "import matplotlib.pyplot as plt #importing dependencies \n",
    "import numpy as np\n",
    "import os \n",
    "import csv \n",
    "import pandas as pd\n",
    "import scipy.stats as st"
   ]
  },
  {
   "cell_type": "code",
   "execution_count": 2,
   "id": "716f51c5",
   "metadata": {},
   "outputs": [],
   "source": [
    "path1 = \"Mouse_metadata.csv\" #uploading the mouse metadata \n",
    "mousemeta = pd.read_csv(\"Mouse_metadata.csv\")"
   ]
  },
  {
   "cell_type": "code",
   "execution_count": 3,
   "id": "aa1801fd",
   "metadata": {},
   "outputs": [],
   "source": [
    "path2 = \"Study_results.csv\" #uploading study results \n",
    "studyres = pd.read_csv(\"Study_results.csv\")"
   ]
  },
  {
   "cell_type": "code",
   "execution_count": 4,
   "id": "2c42c664",
   "metadata": {},
   "outputs": [],
   "source": [
    "combined = pd.merge(mousemeta,studyres, on = \"Mouse ID\") #merging both uploads together"
   ]
  },
  {
   "cell_type": "code",
   "execution_count": 5,
   "id": "34cdcf94",
   "metadata": {},
   "outputs": [],
   "source": [
    "numberofmice = len(combined[\"Mouse ID\"].unique()) #using len funciont to find number of mice\n"
   ]
  },
  {
   "cell_type": "code",
   "execution_count": 6,
   "id": "b7d2b47a",
   "metadata": {},
   "outputs": [
    {
     "data": {
      "text/plain": [
       "249"
      ]
     },
     "execution_count": 6,
     "metadata": {},
     "output_type": "execute_result"
    }
   ],
   "source": [
    "numberofmice #number of mice with duplicates "
   ]
  },
  {
   "cell_type": "code",
   "execution_count": 7,
   "id": "2db1cab8",
   "metadata": {},
   "outputs": [],
   "source": [
    "duplicated = combined[combined.duplicated()] #finding the duplicate "
   ]
  },
  {
   "cell_type": "code",
   "execution_count": 8,
   "id": "aa848c69",
   "metadata": {},
   "outputs": [
    {
     "data": {
      "text/html": [
       "<div>\n",
       "<style scoped>\n",
       "    .dataframe tbody tr th:only-of-type {\n",
       "        vertical-align: middle;\n",
       "    }\n",
       "\n",
       "    .dataframe tbody tr th {\n",
       "        vertical-align: top;\n",
       "    }\n",
       "\n",
       "    .dataframe thead th {\n",
       "        text-align: right;\n",
       "    }\n",
       "</style>\n",
       "<table border=\"1\" class=\"dataframe\">\n",
       "  <thead>\n",
       "    <tr style=\"text-align: right;\">\n",
       "      <th></th>\n",
       "      <th>Mouse ID</th>\n",
       "      <th>Drug Regimen</th>\n",
       "      <th>Sex</th>\n",
       "      <th>Age_months</th>\n",
       "      <th>Weight (g)</th>\n",
       "      <th>Timepoint</th>\n",
       "      <th>Tumor Volume (mm3)</th>\n",
       "      <th>Metastatic Sites</th>\n",
       "    </tr>\n",
       "  </thead>\n",
       "  <tbody>\n",
       "    <tr>\n",
       "      <th>909</th>\n",
       "      <td>g989</td>\n",
       "      <td>Propriva</td>\n",
       "      <td>Female</td>\n",
       "      <td>21</td>\n",
       "      <td>26</td>\n",
       "      <td>0</td>\n",
       "      <td>45.0</td>\n",
       "      <td>0</td>\n",
       "    </tr>\n",
       "  </tbody>\n",
       "</table>\n",
       "</div>"
      ],
      "text/plain": [
       "    Mouse ID Drug Regimen     Sex  Age_months  Weight (g)  Timepoint  \\\n",
       "909     g989     Propriva  Female          21          26          0   \n",
       "\n",
       "     Tumor Volume (mm3)  Metastatic Sites  \n",
       "909                45.0                 0  "
      ]
     },
     "execution_count": 8,
     "metadata": {},
     "output_type": "execute_result"
    }
   ],
   "source": [
    "combined[combined.duplicated()] #fiding information about duplicate most "
   ]
  },
  {
   "cell_type": "code",
   "execution_count": 9,
   "id": "bb2a771a",
   "metadata": {},
   "outputs": [],
   "source": [
    "dup = combined[combined.duplicated()] #storing that informaiton in a variable "
   ]
  },
  {
   "cell_type": "code",
   "execution_count": 10,
   "id": "94d2b57f",
   "metadata": {},
   "outputs": [],
   "source": [
    "CleanCombined = combined[combined['Mouse ID']  != 'g989'] #elminate g989 - mouse ID "
   ]
  },
  {
   "cell_type": "code",
   "execution_count": 11,
   "id": "bc64c05c",
   "metadata": {},
   "outputs": [
    {
     "data": {
      "text/plain": [
       "248"
      ]
     },
     "execution_count": 11,
     "metadata": {},
     "output_type": "execute_result"
    }
   ],
   "source": [
    "len(CleanCombined[\"Mouse ID\"].unique()) #finding the the new number of mice "
   ]
  },
  {
   "cell_type": "code",
   "execution_count": 12,
   "id": "b51001fa",
   "metadata": {},
   "outputs": [],
   "source": [
    "UpdatedLen = len(CleanCombined[\"Mouse ID\"].unique())  #storing it in variable "
   ]
  },
  {
   "cell_type": "code",
   "execution_count": 13,
   "id": "b31f635d",
   "metadata": {},
   "outputs": [
    {
     "data": {
      "text/plain": [
       "248"
      ]
     },
     "execution_count": 13,
     "metadata": {},
     "output_type": "execute_result"
    }
   ],
   "source": [
    "UpdatedLen #showing new number "
   ]
  },
  {
   "cell_type": "code",
   "execution_count": 14,
   "id": "e854c722",
   "metadata": {},
   "outputs": [],
   "source": [
    "name = CleanCombined[\"Drug Regimen\"].unique()  #finding the unique regimnets so I can get data for each one "
   ]
  },
  {
   "cell_type": "code",
   "execution_count": 15,
   "id": "6444f0f1",
   "metadata": {},
   "outputs": [
    {
     "data": {
      "text/plain": [
       "array(['Ramicane', 'Capomulin', 'Infubinol', 'Placebo', 'Ceftamin',\n",
       "       'Stelasyn', 'Zoniferol', 'Ketapril', 'Propriva', 'Naftisol'],\n",
       "      dtype=object)"
      ]
     },
     "execution_count": 15,
     "metadata": {},
     "output_type": "execute_result"
    }
   ],
   "source": [
    "name"
   ]
  },
  {
   "cell_type": "code",
   "execution_count": 16,
   "id": "f9531cb2",
   "metadata": {},
   "outputs": [],
   "source": [
    "SummaryStatistics = pd.DataFrame(name) #creating a dataFrame with the names I found through the unique funcitons"
   ]
  },
  {
   "cell_type": "code",
   "execution_count": 17,
   "id": "f80af562",
   "metadata": {},
   "outputs": [],
   "source": [
    "group = CleanCombined.groupby(\"Drug Regimen\") #grouping by drug so I can provide analysis on each one "
   ]
  },
  {
   "cell_type": "code",
   "execution_count": 18,
   "id": "05f25598",
   "metadata": {},
   "outputs": [],
   "source": [
    "means = list(group[\"Tumor Volume (mm3)\"].mean()) #finding the mean for each drug "
   ]
  },
  {
   "cell_type": "code",
   "execution_count": 19,
   "id": "ac140885",
   "metadata": {},
   "outputs": [],
   "source": [
    "SummaryStatistics[\"Means\"] = means #adding to summary table "
   ]
  },
  {
   "cell_type": "code",
   "execution_count": 20,
   "id": "81daebf4",
   "metadata": {},
   "outputs": [],
   "source": [
    "medians =list(group[\"Tumor Volume (mm3)\"].median()) #finding medians "
   ]
  },
  {
   "cell_type": "code",
   "execution_count": 21,
   "id": "f1585f94",
   "metadata": {},
   "outputs": [],
   "source": [
    "var = list(group[\"Tumor Volume (mm3)\"].var()) #finding var "
   ]
  },
  {
   "cell_type": "code",
   "execution_count": 22,
   "id": "e0b3a6ba",
   "metadata": {},
   "outputs": [],
   "source": [
    "std = list(group[\"Tumor Volume (mm3)\"].std()) #finding standard deviation "
   ]
  },
  {
   "cell_type": "code",
   "execution_count": 23,
   "id": "931e23c2",
   "metadata": {},
   "outputs": [],
   "source": [
    "SEM = list(group[\"Tumor Volume (mm3)\"].sem()) #finding standard error "
   ]
  },
  {
   "cell_type": "code",
   "execution_count": 24,
   "id": "beab980d",
   "metadata": {},
   "outputs": [],
   "source": [
    "SummaryStatistics[\"SEM\"] = SEM #adding to summary table "
   ]
  },
  {
   "cell_type": "code",
   "execution_count": 25,
   "id": "73258109",
   "metadata": {},
   "outputs": [],
   "source": [
    "SummaryStatistics[\"Variance\"] = var #adding to summary table "
   ]
  },
  {
   "cell_type": "code",
   "execution_count": 26,
   "id": "c55928f3",
   "metadata": {},
   "outputs": [],
   "source": [
    "SummaryStatistics[\"Medians\"] = medians #adding to summary table "
   ]
  },
  {
   "cell_type": "code",
   "execution_count": 27,
   "id": "f562d5ec",
   "metadata": {},
   "outputs": [],
   "source": [
    "SummaryStatistics[\"Standard Deviation\"] = std #adding to summary table "
   ]
  },
  {
   "cell_type": "code",
   "execution_count": 28,
   "id": "6ddeec95",
   "metadata": {},
   "outputs": [],
   "source": [
    "summarystatistics2 = CleanCombined.groupby(\"Drug Regimen\").agg(mean = pd.NamedAgg(column = \"Tumor Volume (mm3)\", aggfunc ='mean'), median = pd.NamedAgg(column = \"Tumor Volume (mm3)\", aggfunc ='median'),var = pd.NamedAgg(column = \"Tumor Volume (mm3)\", aggfunc ='var'),std = pd.NamedAgg(column = \"Tumor Volume (mm3)\", aggfunc ='std'),SEM = pd.NamedAgg(column = \"Tumor Volume (mm3)\", aggfunc ='sem'))#using ag funciton as an alternative way to create summary table "
   ]
  },
  {
   "cell_type": "code",
   "execution_count": 29,
   "id": "63eb90bf",
   "metadata": {},
   "outputs": [
    {
     "data": {
      "text/html": [
       "<div>\n",
       "<style scoped>\n",
       "    .dataframe tbody tr th:only-of-type {\n",
       "        vertical-align: middle;\n",
       "    }\n",
       "\n",
       "    .dataframe tbody tr th {\n",
       "        vertical-align: top;\n",
       "    }\n",
       "\n",
       "    .dataframe thead th {\n",
       "        text-align: right;\n",
       "    }\n",
       "</style>\n",
       "<table border=\"1\" class=\"dataframe\">\n",
       "  <thead>\n",
       "    <tr style=\"text-align: right;\">\n",
       "      <th></th>\n",
       "      <th>mean</th>\n",
       "      <th>median</th>\n",
       "      <th>var</th>\n",
       "      <th>std</th>\n",
       "      <th>SEM</th>\n",
       "    </tr>\n",
       "    <tr>\n",
       "      <th>Drug Regimen</th>\n",
       "      <th></th>\n",
       "      <th></th>\n",
       "      <th></th>\n",
       "      <th></th>\n",
       "      <th></th>\n",
       "    </tr>\n",
       "  </thead>\n",
       "  <tbody>\n",
       "    <tr>\n",
       "      <th>Capomulin</th>\n",
       "      <td>40.675741</td>\n",
       "      <td>41.557809</td>\n",
       "      <td>24.947764</td>\n",
       "      <td>4.994774</td>\n",
       "      <td>0.329346</td>\n",
       "    </tr>\n",
       "    <tr>\n",
       "      <th>Ceftamin</th>\n",
       "      <td>52.591172</td>\n",
       "      <td>51.776157</td>\n",
       "      <td>39.290177</td>\n",
       "      <td>6.268188</td>\n",
       "      <td>0.469821</td>\n",
       "    </tr>\n",
       "    <tr>\n",
       "      <th>Infubinol</th>\n",
       "      <td>52.884795</td>\n",
       "      <td>51.820584</td>\n",
       "      <td>43.128684</td>\n",
       "      <td>6.567243</td>\n",
       "      <td>0.492236</td>\n",
       "    </tr>\n",
       "    <tr>\n",
       "      <th>Ketapril</th>\n",
       "      <td>55.235638</td>\n",
       "      <td>53.698743</td>\n",
       "      <td>68.553577</td>\n",
       "      <td>8.279709</td>\n",
       "      <td>0.603860</td>\n",
       "    </tr>\n",
       "    <tr>\n",
       "      <th>Naftisol</th>\n",
       "      <td>54.331565</td>\n",
       "      <td>52.509285</td>\n",
       "      <td>66.173479</td>\n",
       "      <td>8.134708</td>\n",
       "      <td>0.596466</td>\n",
       "    </tr>\n",
       "    <tr>\n",
       "      <th>Placebo</th>\n",
       "      <td>54.033581</td>\n",
       "      <td>52.288934</td>\n",
       "      <td>61.168083</td>\n",
       "      <td>7.821003</td>\n",
       "      <td>0.581331</td>\n",
       "    </tr>\n",
       "    <tr>\n",
       "      <th>Propriva</th>\n",
       "      <td>52.320930</td>\n",
       "      <td>50.446266</td>\n",
       "      <td>43.852013</td>\n",
       "      <td>6.622085</td>\n",
       "      <td>0.544332</td>\n",
       "    </tr>\n",
       "    <tr>\n",
       "      <th>Ramicane</th>\n",
       "      <td>40.216745</td>\n",
       "      <td>40.673236</td>\n",
       "      <td>23.486704</td>\n",
       "      <td>4.846308</td>\n",
       "      <td>0.320955</td>\n",
       "    </tr>\n",
       "    <tr>\n",
       "      <th>Stelasyn</th>\n",
       "      <td>54.233149</td>\n",
       "      <td>52.431737</td>\n",
       "      <td>59.450562</td>\n",
       "      <td>7.710419</td>\n",
       "      <td>0.573111</td>\n",
       "    </tr>\n",
       "    <tr>\n",
       "      <th>Zoniferol</th>\n",
       "      <td>53.236507</td>\n",
       "      <td>51.818479</td>\n",
       "      <td>48.533355</td>\n",
       "      <td>6.966589</td>\n",
       "      <td>0.516398</td>\n",
       "    </tr>\n",
       "  </tbody>\n",
       "</table>\n",
       "</div>"
      ],
      "text/plain": [
       "                   mean     median        var       std       SEM\n",
       "Drug Regimen                                                     \n",
       "Capomulin     40.675741  41.557809  24.947764  4.994774  0.329346\n",
       "Ceftamin      52.591172  51.776157  39.290177  6.268188  0.469821\n",
       "Infubinol     52.884795  51.820584  43.128684  6.567243  0.492236\n",
       "Ketapril      55.235638  53.698743  68.553577  8.279709  0.603860\n",
       "Naftisol      54.331565  52.509285  66.173479  8.134708  0.596466\n",
       "Placebo       54.033581  52.288934  61.168083  7.821003  0.581331\n",
       "Propriva      52.320930  50.446266  43.852013  6.622085  0.544332\n",
       "Ramicane      40.216745  40.673236  23.486704  4.846308  0.320955\n",
       "Stelasyn      54.233149  52.431737  59.450562  7.710419  0.573111\n",
       "Zoniferol     53.236507  51.818479  48.533355  6.966589  0.516398"
      ]
     },
     "execution_count": 29,
     "metadata": {},
     "output_type": "execute_result"
    }
   ],
   "source": [
    "summarystatistics2"
   ]
  },
  {
   "cell_type": "code",
   "execution_count": 30,
   "id": "8e7a1bac",
   "metadata": {},
   "outputs": [],
   "source": [
    "SummaryStatistics = SummaryStatistics.rename(columns = {0:\"Drug Regimen\"}) #renaming first summary statistics table to drug regiment vs 0"
   ]
  },
  {
   "cell_type": "code",
   "execution_count": 31,
   "id": "0b2a94a4",
   "metadata": {},
   "outputs": [
    {
     "data": {
      "text/html": [
       "<div>\n",
       "<style scoped>\n",
       "    .dataframe tbody tr th:only-of-type {\n",
       "        vertical-align: middle;\n",
       "    }\n",
       "\n",
       "    .dataframe tbody tr th {\n",
       "        vertical-align: top;\n",
       "    }\n",
       "\n",
       "    .dataframe thead th {\n",
       "        text-align: right;\n",
       "    }\n",
       "</style>\n",
       "<table border=\"1\" class=\"dataframe\">\n",
       "  <thead>\n",
       "    <tr style=\"text-align: right;\">\n",
       "      <th></th>\n",
       "      <th>Drug Regimen</th>\n",
       "      <th>Means</th>\n",
       "      <th>SEM</th>\n",
       "      <th>Variance</th>\n",
       "      <th>Medians</th>\n",
       "      <th>Standard Deviation</th>\n",
       "    </tr>\n",
       "  </thead>\n",
       "  <tbody>\n",
       "    <tr>\n",
       "      <th>0</th>\n",
       "      <td>Ramicane</td>\n",
       "      <td>40.675741</td>\n",
       "      <td>0.329346</td>\n",
       "      <td>24.947764</td>\n",
       "      <td>41.557809</td>\n",
       "      <td>4.994774</td>\n",
       "    </tr>\n",
       "    <tr>\n",
       "      <th>1</th>\n",
       "      <td>Capomulin</td>\n",
       "      <td>52.591172</td>\n",
       "      <td>0.469821</td>\n",
       "      <td>39.290177</td>\n",
       "      <td>51.776157</td>\n",
       "      <td>6.268188</td>\n",
       "    </tr>\n",
       "    <tr>\n",
       "      <th>2</th>\n",
       "      <td>Infubinol</td>\n",
       "      <td>52.884795</td>\n",
       "      <td>0.492236</td>\n",
       "      <td>43.128684</td>\n",
       "      <td>51.820584</td>\n",
       "      <td>6.567243</td>\n",
       "    </tr>\n",
       "    <tr>\n",
       "      <th>3</th>\n",
       "      <td>Placebo</td>\n",
       "      <td>55.235638</td>\n",
       "      <td>0.603860</td>\n",
       "      <td>68.553577</td>\n",
       "      <td>53.698743</td>\n",
       "      <td>8.279709</td>\n",
       "    </tr>\n",
       "    <tr>\n",
       "      <th>4</th>\n",
       "      <td>Ceftamin</td>\n",
       "      <td>54.331565</td>\n",
       "      <td>0.596466</td>\n",
       "      <td>66.173479</td>\n",
       "      <td>52.509285</td>\n",
       "      <td>8.134708</td>\n",
       "    </tr>\n",
       "    <tr>\n",
       "      <th>5</th>\n",
       "      <td>Stelasyn</td>\n",
       "      <td>54.033581</td>\n",
       "      <td>0.581331</td>\n",
       "      <td>61.168083</td>\n",
       "      <td>52.288934</td>\n",
       "      <td>7.821003</td>\n",
       "    </tr>\n",
       "    <tr>\n",
       "      <th>6</th>\n",
       "      <td>Zoniferol</td>\n",
       "      <td>52.320930</td>\n",
       "      <td>0.544332</td>\n",
       "      <td>43.852013</td>\n",
       "      <td>50.446266</td>\n",
       "      <td>6.622085</td>\n",
       "    </tr>\n",
       "    <tr>\n",
       "      <th>7</th>\n",
       "      <td>Ketapril</td>\n",
       "      <td>40.216745</td>\n",
       "      <td>0.320955</td>\n",
       "      <td>23.486704</td>\n",
       "      <td>40.673236</td>\n",
       "      <td>4.846308</td>\n",
       "    </tr>\n",
       "    <tr>\n",
       "      <th>8</th>\n",
       "      <td>Propriva</td>\n",
       "      <td>54.233149</td>\n",
       "      <td>0.573111</td>\n",
       "      <td>59.450562</td>\n",
       "      <td>52.431737</td>\n",
       "      <td>7.710419</td>\n",
       "    </tr>\n",
       "    <tr>\n",
       "      <th>9</th>\n",
       "      <td>Naftisol</td>\n",
       "      <td>53.236507</td>\n",
       "      <td>0.516398</td>\n",
       "      <td>48.533355</td>\n",
       "      <td>51.818479</td>\n",
       "      <td>6.966589</td>\n",
       "    </tr>\n",
       "  </tbody>\n",
       "</table>\n",
       "</div>"
      ],
      "text/plain": [
       "  Drug Regimen      Means       SEM   Variance    Medians  Standard Deviation\n",
       "0     Ramicane  40.675741  0.329346  24.947764  41.557809            4.994774\n",
       "1    Capomulin  52.591172  0.469821  39.290177  51.776157            6.268188\n",
       "2    Infubinol  52.884795  0.492236  43.128684  51.820584            6.567243\n",
       "3      Placebo  55.235638  0.603860  68.553577  53.698743            8.279709\n",
       "4     Ceftamin  54.331565  0.596466  66.173479  52.509285            8.134708\n",
       "5     Stelasyn  54.033581  0.581331  61.168083  52.288934            7.821003\n",
       "6    Zoniferol  52.320930  0.544332  43.852013  50.446266            6.622085\n",
       "7     Ketapril  40.216745  0.320955  23.486704  40.673236            4.846308\n",
       "8     Propriva  54.233149  0.573111  59.450562  52.431737            7.710419\n",
       "9     Naftisol  53.236507  0.516398  48.533355  51.818479            6.966589"
      ]
     },
     "execution_count": 31,
     "metadata": {},
     "output_type": "execute_result"
    }
   ],
   "source": [
    "SummaryStatistics #renamed table "
   ]
  },
  {
   "cell_type": "code",
   "execution_count": 32,
   "id": "88716f5a",
   "metadata": {},
   "outputs": [],
   "source": [
    "group = CleanCombined.groupby(\"Drug Regimen\") #groupoing to get total for each drug "
   ]
  },
  {
   "cell_type": "code",
   "execution_count": 33,
   "id": "24c4111b",
   "metadata": {},
   "outputs": [],
   "source": [
    "Count = group.count() #using count to get total "
   ]
  },
  {
   "cell_type": "code",
   "execution_count": 34,
   "id": "a1477831",
   "metadata": {},
   "outputs": [],
   "source": [
    "Sort = Count.sort_values(by = ['Mouse ID'],ascending = False) #sorting from most to least so bar graph looks better "
   ]
  },
  {
   "cell_type": "code",
   "execution_count": 35,
   "id": "179bfe7e",
   "metadata": {},
   "outputs": [
    {
     "data": {
      "text/html": [
       "<div>\n",
       "<style scoped>\n",
       "    .dataframe tbody tr th:only-of-type {\n",
       "        vertical-align: middle;\n",
       "    }\n",
       "\n",
       "    .dataframe tbody tr th {\n",
       "        vertical-align: top;\n",
       "    }\n",
       "\n",
       "    .dataframe thead th {\n",
       "        text-align: right;\n",
       "    }\n",
       "</style>\n",
       "<table border=\"1\" class=\"dataframe\">\n",
       "  <thead>\n",
       "    <tr style=\"text-align: right;\">\n",
       "      <th></th>\n",
       "      <th>Mouse ID</th>\n",
       "      <th>Sex</th>\n",
       "      <th>Age_months</th>\n",
       "      <th>Weight (g)</th>\n",
       "      <th>Timepoint</th>\n",
       "      <th>Tumor Volume (mm3)</th>\n",
       "      <th>Metastatic Sites</th>\n",
       "    </tr>\n",
       "    <tr>\n",
       "      <th>Drug Regimen</th>\n",
       "      <th></th>\n",
       "      <th></th>\n",
       "      <th></th>\n",
       "      <th></th>\n",
       "      <th></th>\n",
       "      <th></th>\n",
       "      <th></th>\n",
       "    </tr>\n",
       "  </thead>\n",
       "  <tbody>\n",
       "    <tr>\n",
       "      <th>Capomulin</th>\n",
       "      <td>230</td>\n",
       "      <td>230</td>\n",
       "      <td>230</td>\n",
       "      <td>230</td>\n",
       "      <td>230</td>\n",
       "      <td>230</td>\n",
       "      <td>230</td>\n",
       "    </tr>\n",
       "    <tr>\n",
       "      <th>Ramicane</th>\n",
       "      <td>228</td>\n",
       "      <td>228</td>\n",
       "      <td>228</td>\n",
       "      <td>228</td>\n",
       "      <td>228</td>\n",
       "      <td>228</td>\n",
       "      <td>228</td>\n",
       "    </tr>\n",
       "    <tr>\n",
       "      <th>Ketapril</th>\n",
       "      <td>188</td>\n",
       "      <td>188</td>\n",
       "      <td>188</td>\n",
       "      <td>188</td>\n",
       "      <td>188</td>\n",
       "      <td>188</td>\n",
       "      <td>188</td>\n",
       "    </tr>\n",
       "    <tr>\n",
       "      <th>Naftisol</th>\n",
       "      <td>186</td>\n",
       "      <td>186</td>\n",
       "      <td>186</td>\n",
       "      <td>186</td>\n",
       "      <td>186</td>\n",
       "      <td>186</td>\n",
       "      <td>186</td>\n",
       "    </tr>\n",
       "    <tr>\n",
       "      <th>Zoniferol</th>\n",
       "      <td>182</td>\n",
       "      <td>182</td>\n",
       "      <td>182</td>\n",
       "      <td>182</td>\n",
       "      <td>182</td>\n",
       "      <td>182</td>\n",
       "      <td>182</td>\n",
       "    </tr>\n",
       "    <tr>\n",
       "      <th>Placebo</th>\n",
       "      <td>181</td>\n",
       "      <td>181</td>\n",
       "      <td>181</td>\n",
       "      <td>181</td>\n",
       "      <td>181</td>\n",
       "      <td>181</td>\n",
       "      <td>181</td>\n",
       "    </tr>\n",
       "    <tr>\n",
       "      <th>Stelasyn</th>\n",
       "      <td>181</td>\n",
       "      <td>181</td>\n",
       "      <td>181</td>\n",
       "      <td>181</td>\n",
       "      <td>181</td>\n",
       "      <td>181</td>\n",
       "      <td>181</td>\n",
       "    </tr>\n",
       "    <tr>\n",
       "      <th>Ceftamin</th>\n",
       "      <td>178</td>\n",
       "      <td>178</td>\n",
       "      <td>178</td>\n",
       "      <td>178</td>\n",
       "      <td>178</td>\n",
       "      <td>178</td>\n",
       "      <td>178</td>\n",
       "    </tr>\n",
       "    <tr>\n",
       "      <th>Infubinol</th>\n",
       "      <td>178</td>\n",
       "      <td>178</td>\n",
       "      <td>178</td>\n",
       "      <td>178</td>\n",
       "      <td>178</td>\n",
       "      <td>178</td>\n",
       "      <td>178</td>\n",
       "    </tr>\n",
       "    <tr>\n",
       "      <th>Propriva</th>\n",
       "      <td>148</td>\n",
       "      <td>148</td>\n",
       "      <td>148</td>\n",
       "      <td>148</td>\n",
       "      <td>148</td>\n",
       "      <td>148</td>\n",
       "      <td>148</td>\n",
       "    </tr>\n",
       "  </tbody>\n",
       "</table>\n",
       "</div>"
      ],
      "text/plain": [
       "              Mouse ID  Sex  Age_months  Weight (g)  Timepoint  \\\n",
       "Drug Regimen                                                     \n",
       "Capomulin          230  230         230         230        230   \n",
       "Ramicane           228  228         228         228        228   \n",
       "Ketapril           188  188         188         188        188   \n",
       "Naftisol           186  186         186         186        186   \n",
       "Zoniferol          182  182         182         182        182   \n",
       "Placebo            181  181         181         181        181   \n",
       "Stelasyn           181  181         181         181        181   \n",
       "Ceftamin           178  178         178         178        178   \n",
       "Infubinol          178  178         178         178        178   \n",
       "Propriva           148  148         148         148        148   \n",
       "\n",
       "              Tumor Volume (mm3)  Metastatic Sites  \n",
       "Drug Regimen                                        \n",
       "Capomulin                    230               230  \n",
       "Ramicane                     228               228  \n",
       "Ketapril                     188               188  \n",
       "Naftisol                     186               186  \n",
       "Zoniferol                    182               182  \n",
       "Placebo                      181               181  \n",
       "Stelasyn                     181               181  \n",
       "Ceftamin                     178               178  \n",
       "Infubinol                    178               178  \n",
       "Propriva                     148               148  "
      ]
     },
     "execution_count": 35,
     "metadata": {},
     "output_type": "execute_result"
    }
   ],
   "source": [
    "Sort #final sort "
   ]
  },
  {
   "cell_type": "code",
   "execution_count": 36,
   "id": "45912dbc",
   "metadata": {},
   "outputs": [],
   "source": [
    "listofcount = list(Sort[\"Mouse ID\"]) #create list of occurences "
   ]
  },
  {
   "cell_type": "code",
   "execution_count": 37,
   "id": "7bc4f85f",
   "metadata": {},
   "outputs": [
    {
     "data": {
      "text/plain": [
       "[230, 228, 188, 186, 182, 181, 181, 178, 178, 148]"
      ]
     },
     "execution_count": 37,
     "metadata": {},
     "output_type": "execute_result"
    }
   ],
   "source": [
    "listofcount #list"
   ]
  },
  {
   "cell_type": "code",
   "execution_count": 38,
   "id": "67699f4a",
   "metadata": {},
   "outputs": [],
   "source": [
    "listofname = []#create a list of drug names to create graphs \n",
    "for row in Sort.index:\n",
    "    listofname.append(row)"
   ]
  },
  {
   "cell_type": "code",
   "execution_count": 39,
   "id": "2a9c2a81",
   "metadata": {},
   "outputs": [
    {
     "data": {
      "text/plain": [
       "['Capomulin',\n",
       " 'Ramicane',\n",
       " 'Ketapril',\n",
       " 'Naftisol',\n",
       " 'Zoniferol',\n",
       " 'Placebo',\n",
       " 'Stelasyn',\n",
       " 'Ceftamin',\n",
       " 'Infubinol',\n",
       " 'Propriva']"
      ]
     },
     "execution_count": 39,
     "metadata": {},
     "output_type": "execute_result"
    }
   ],
   "source": [
    "listofname #name list "
   ]
  },
  {
   "cell_type": "code",
   "execution_count": 40,
   "id": "ac276130",
   "metadata": {},
   "outputs": [
    {
     "data": {
      "text/plain": [
       "([0, 1, 2, 3, 4, 5, 6, 7, 8, 9],\n",
       " [Text(0, 0, 'Capomulin'),\n",
       "  Text(1, 0, 'Ramicane'),\n",
       "  Text(2, 0, 'Ketapril'),\n",
       "  Text(3, 0, 'Naftisol'),\n",
       "  Text(4, 0, 'Zoniferol'),\n",
       "  Text(5, 0, 'Placebo'),\n",
       "  Text(6, 0, 'Stelasyn'),\n",
       "  Text(7, 0, 'Ceftamin'),\n",
       "  Text(8, 0, 'Infubinol'),\n",
       "  Text(9, 0, 'Propriva')])"
      ]
     },
     "execution_count": 40,
     "metadata": {},
     "output_type": "execute_result"
    },
    {
     "data": {
      "image/png": "[encoded data removed]",
      "text/plain": [
       "<Figure size 640x480 with 1 Axes>"
      ]
     },
     "metadata": {},
     "output_type": "display_data"
    }
   ],
   "source": [
    "TimepointBar2 = plt.bar(listofname,listofcount, color = \"blue\") #matplotlib method using information above \n",
    "plt.xlabel(\"Drug Regimen\")\n",
    "plt.ylabel(\"# of Observed Mouse Timepoints\")\n",
    "plt.xticks(rotation = 'vertical')\n"
   ]
  },
  {
   "cell_type": "code",
   "execution_count": 41,
   "id": "76ab9312",
   "metadata": {},
   "outputs": [],
   "source": [
    "BarDF = pd.DataFrame(listofcount,listofname) #create a dataframe to use pandas "
   ]
  },
  {
   "cell_type": "code",
   "execution_count": 42,
   "id": "bcd4412f",
   "metadata": {},
   "outputs": [
    {
     "data": {
      "text/html": [
       "<div>\n",
       "<style scoped>\n",
       "    .dataframe tbody tr th:only-of-type {\n",
       "        vertical-align: middle;\n",
       "    }\n",
       "\n",
       "    .dataframe tbody tr th {\n",
       "        vertical-align: top;\n",
       "    }\n",
       "\n",
       "    .dataframe thead th {\n",
       "        text-align: right;\n",
       "    }\n",
       "</style>\n",
       "<table border=\"1\" class=\"dataframe\">\n",
       "  <thead>\n",
       "    <tr style=\"text-align: right;\">\n",
       "      <th></th>\n",
       "      <th>0</th>\n",
       "    </tr>\n",
       "  </thead>\n",
       "  <tbody>\n",
       "    <tr>\n",
       "      <th>Capomulin</th>\n",
       "      <td>230</td>\n",
       "    </tr>\n",
       "    <tr>\n",
       "      <th>Ramicane</th>\n",
       "      <td>228</td>\n",
       "    </tr>\n",
       "    <tr>\n",
       "      <th>Ketapril</th>\n",
       "      <td>188</td>\n",
       "    </tr>\n",
       "    <tr>\n",
       "      <th>Naftisol</th>\n",
       "      <td>186</td>\n",
       "    </tr>\n",
       "    <tr>\n",
       "      <th>Zoniferol</th>\n",
       "      <td>182</td>\n",
       "    </tr>\n",
       "    <tr>\n",
       "      <th>Placebo</th>\n",
       "      <td>181</td>\n",
       "    </tr>\n",
       "    <tr>\n",
       "      <th>Stelasyn</th>\n",
       "      <td>181</td>\n",
       "    </tr>\n",
       "    <tr>\n",
       "      <th>Ceftamin</th>\n",
       "      <td>178</td>\n",
       "    </tr>\n",
       "    <tr>\n",
       "      <th>Infubinol</th>\n",
       "      <td>178</td>\n",
       "    </tr>\n",
       "    <tr>\n",
       "      <th>Propriva</th>\n",
       "      <td>148</td>\n",
       "    </tr>\n",
       "  </tbody>\n",
       "</table>\n",
       "</div>"
      ],
      "text/plain": [
       "             0\n",
       "Capomulin  230\n",
       "Ramicane   228\n",
       "Ketapril   188\n",
       "Naftisol   186\n",
       "Zoniferol  182\n",
       "Placebo    181\n",
       "Stelasyn   181\n",
       "Ceftamin   178\n",
       "Infubinol  178\n",
       "Propriva   148"
      ]
     },
     "execution_count": 42,
     "metadata": {},
     "output_type": "execute_result"
    }
   ],
   "source": [
    "BarDF"
   ]
  },
  {
   "cell_type": "code",
   "execution_count": 43,
   "id": "2cabc3ae",
   "metadata": {},
   "outputs": [
    {
     "data": {
      "text/plain": [
       "[Text(0.5, 0, 'Drug Regiment'), Text(0, 0.5, '# of Observed Mouse Timepoints')]"
      ]
     },
     "execution_count": 43,
     "metadata": {},
     "output_type": "execute_result"
    },
    {
     "data": {
      "image/png": "[encoded data removed]",
      "text/plain": [
       "<Figure size 640x480 with 1 Axes>"
      ]
     },
     "metadata": {},
     "output_type": "display_data"
    }
   ],
   "source": [
    "TimeBar = BarDF.plot(kind = \"bar\", color = \"blue\", ) #pandas method using DataFrame above \n",
    "TimeBar.set(xlabel = \"Drug Regiment\", ylabel = \"# of Observed Mouse Timepoints\")\n"
   ]
  },
  {
   "cell_type": "code",
   "execution_count": 44,
   "id": "0ad8fb3a",
   "metadata": {},
   "outputs": [],
   "source": [
    "lasttimepoint = CleanCombined.groupby(\"Mouse ID\").last() #finding the information about last timepoint for each mouse "
   ]
  },
  {
   "cell_type": "code",
   "execution_count": 45,
   "id": "fe968c3f",
   "metadata": {},
   "outputs": [
    {
     "data": {
      "text/html": [
       "<div>\n",
       "<style scoped>\n",
       "    .dataframe tbody tr th:only-of-type {\n",
       "        vertical-align: middle;\n",
       "    }\n",
       "\n",
       "    .dataframe tbody tr th {\n",
       "        vertical-align: top;\n",
       "    }\n",
       "\n",
       "    .dataframe thead th {\n",
       "        text-align: right;\n",
       "    }\n",
       "</style>\n",
       "<table border=\"1\" class=\"dataframe\">\n",
       "  <thead>\n",
       "    <tr style=\"text-align: right;\">\n",
       "      <th></th>\n",
       "      <th>Drug Regimen</th>\n",
       "      <th>Sex</th>\n",
       "      <th>Age_months</th>\n",
       "      <th>Weight (g)</th>\n",
       "      <th>Timepoint</th>\n",
       "      <th>Tumor Volume (mm3)</th>\n",
       "      <th>Metastatic Sites</th>\n",
       "    </tr>\n",
       "    <tr>\n",
       "      <th>Mouse ID</th>\n",
       "      <th></th>\n",
       "      <th></th>\n",
       "      <th></th>\n",
       "      <th></th>\n",
       "      <th></th>\n",
       "      <th></th>\n",
       "      <th></th>\n",
       "    </tr>\n",
       "  </thead>\n",
       "  <tbody>\n",
       "    <tr>\n",
       "      <th>a203</th>\n",
       "      <td>Infubinol</td>\n",
       "      <td>Female</td>\n",
       "      <td>20</td>\n",
       "      <td>23</td>\n",
       "      <td>45</td>\n",
       "      <td>67.973419</td>\n",
       "      <td>2</td>\n",
       "    </tr>\n",
       "    <tr>\n",
       "      <th>a251</th>\n",
       "      <td>Infubinol</td>\n",
       "      <td>Female</td>\n",
       "      <td>21</td>\n",
       "      <td>25</td>\n",
       "      <td>45</td>\n",
       "      <td>65.525743</td>\n",
       "      <td>1</td>\n",
       "    </tr>\n",
       "    <tr>\n",
       "      <th>a262</th>\n",
       "      <td>Placebo</td>\n",
       "      <td>Female</td>\n",
       "      <td>17</td>\n",
       "      <td>29</td>\n",
       "      <td>45</td>\n",
       "      <td>70.717621</td>\n",
       "      <td>4</td>\n",
       "    </tr>\n",
       "    <tr>\n",
       "      <th>a275</th>\n",
       "      <td>Ceftamin</td>\n",
       "      <td>Female</td>\n",
       "      <td>20</td>\n",
       "      <td>28</td>\n",
       "      <td>45</td>\n",
       "      <td>62.999356</td>\n",
       "      <td>3</td>\n",
       "    </tr>\n",
       "    <tr>\n",
       "      <th>a366</th>\n",
       "      <td>Stelasyn</td>\n",
       "      <td>Female</td>\n",
       "      <td>16</td>\n",
       "      <td>29</td>\n",
       "      <td>30</td>\n",
       "      <td>63.440686</td>\n",
       "      <td>1</td>\n",
       "    </tr>\n",
       "    <tr>\n",
       "      <th>...</th>\n",
       "      <td>...</td>\n",
       "      <td>...</td>\n",
       "      <td>...</td>\n",
       "      <td>...</td>\n",
       "      <td>...</td>\n",
       "      <td>...</td>\n",
       "      <td>...</td>\n",
       "    </tr>\n",
       "    <tr>\n",
       "      <th>z435</th>\n",
       "      <td>Propriva</td>\n",
       "      <td>Female</td>\n",
       "      <td>12</td>\n",
       "      <td>26</td>\n",
       "      <td>10</td>\n",
       "      <td>48.710661</td>\n",
       "      <td>0</td>\n",
       "    </tr>\n",
       "    <tr>\n",
       "      <th>z578</th>\n",
       "      <td>Ramicane</td>\n",
       "      <td>Male</td>\n",
       "      <td>11</td>\n",
       "      <td>16</td>\n",
       "      <td>45</td>\n",
       "      <td>30.638696</td>\n",
       "      <td>0</td>\n",
       "    </tr>\n",
       "    <tr>\n",
       "      <th>z581</th>\n",
       "      <td>Infubinol</td>\n",
       "      <td>Female</td>\n",
       "      <td>24</td>\n",
       "      <td>25</td>\n",
       "      <td>45</td>\n",
       "      <td>62.754451</td>\n",
       "      <td>3</td>\n",
       "    </tr>\n",
       "    <tr>\n",
       "      <th>z795</th>\n",
       "      <td>Naftisol</td>\n",
       "      <td>Female</td>\n",
       "      <td>13</td>\n",
       "      <td>29</td>\n",
       "      <td>45</td>\n",
       "      <td>65.741070</td>\n",
       "      <td>3</td>\n",
       "    </tr>\n",
       "    <tr>\n",
       "      <th>z969</th>\n",
       "      <td>Naftisol</td>\n",
       "      <td>Male</td>\n",
       "      <td>9</td>\n",
       "      <td>30</td>\n",
       "      <td>45</td>\n",
       "      <td>73.867845</td>\n",
       "      <td>4</td>\n",
       "    </tr>\n",
       "  </tbody>\n",
       "</table>\n",
       "<p>248 rows × 7 columns</p>\n",
       "</div>"
      ],
      "text/plain": [
       "         Drug Regimen     Sex  Age_months  Weight (g)  Timepoint  \\\n",
       "Mouse ID                                                           \n",
       "a203        Infubinol  Female          20          23         45   \n",
       "a251        Infubinol  Female          21          25         45   \n",
       "a262          Placebo  Female          17          29         45   \n",
       "a275         Ceftamin  Female          20          28         45   \n",
       "a366         Stelasyn  Female          16          29         30   \n",
       "...               ...     ...         ...         ...        ...   \n",
       "z435         Propriva  Female          12          26         10   \n",
       "z578         Ramicane    Male          11          16         45   \n",
       "z581        Infubinol  Female          24          25         45   \n",
       "z795         Naftisol  Female          13          29         45   \n",
       "z969         Naftisol    Male           9          30         45   \n",
       "\n",
       "          Tumor Volume (mm3)  Metastatic Sites  \n",
       "Mouse ID                                        \n",
       "a203               67.973419                 2  \n",
       "a251               65.525743                 1  \n",
       "a262               70.717621                 4  \n",
       "a275               62.999356                 3  \n",
       "a366               63.440686                 1  \n",
       "...                      ...               ...  \n",
       "z435               48.710661                 0  \n",
       "z578               30.638696                 0  \n",
       "z581               62.754451                 3  \n",
       "z795               65.741070                 3  \n",
       "z969               73.867845                 4  \n",
       "\n",
       "[248 rows x 7 columns]"
      ]
     },
     "execution_count": 45,
     "metadata": {},
     "output_type": "execute_result"
    }
   ],
   "source": [
    "lasttimepoint"
   ]
  },
  {
   "cell_type": "code",
   "execution_count": 46,
   "id": "1b300b6d",
   "metadata": {},
   "outputs": [],
   "source": [
    "listofsexs = list(lasttimepoint[\"Sex\"]) #what is the sex for each mouse for pie graph "
   ]
  },
  {
   "cell_type": "code",
   "execution_count": 47,
   "id": "c352f8c0",
   "metadata": {},
   "outputs": [
    {
     "data": {
      "text/plain": [
       "['Female',\n",
       " 'Female',\n",
       " 'Female',\n",
       " 'Female',\n",
       " 'Female',\n",
       " 'Female',\n",
       " 'Male',\n",
       " 'Female',\n",
       " 'Female',\n",
       " 'Male',\n",
       " 'Male',\n",
       " 'Female',\n",
       " 'Female',\n",
       " 'Male',\n",
       " 'Female',\n",
       " 'Male',\n",
       " 'Female',\n",
       " 'Male',\n",
       " 'Female',\n",
       " 'Female',\n",
       " 'Male',\n",
       " 'Male',\n",
       " 'Female',\n",
       " 'Male',\n",
       " 'Male',\n",
       " 'Female',\n",
       " 'Female',\n",
       " 'Male',\n",
       " 'Female',\n",
       " 'Male',\n",
       " 'Female',\n",
       " 'Female',\n",
       " 'Female',\n",
       " 'Female',\n",
       " 'Female',\n",
       " 'Male',\n",
       " 'Male',\n",
       " 'Male',\n",
       " 'Female',\n",
       " 'Male',\n",
       " 'Male',\n",
       " 'Female',\n",
       " 'Female',\n",
       " 'Male',\n",
       " 'Male',\n",
       " 'Female',\n",
       " 'Male',\n",
       " 'Male',\n",
       " 'Male',\n",
       " 'Female',\n",
       " 'Male',\n",
       " 'Male',\n",
       " 'Male',\n",
       " 'Female',\n",
       " 'Male',\n",
       " 'Male',\n",
       " 'Male',\n",
       " 'Male',\n",
       " 'Female',\n",
       " 'Female',\n",
       " 'Male',\n",
       " 'Male',\n",
       " 'Male',\n",
       " 'Female',\n",
       " 'Male',\n",
       " 'Female',\n",
       " 'Female',\n",
       " 'Male',\n",
       " 'Male',\n",
       " 'Male',\n",
       " 'Male',\n",
       " 'Female',\n",
       " 'Male',\n",
       " 'Male',\n",
       " 'Female',\n",
       " 'Male',\n",
       " 'Male',\n",
       " 'Female',\n",
       " 'Female',\n",
       " 'Female',\n",
       " 'Female',\n",
       " 'Male',\n",
       " 'Female',\n",
       " 'Female',\n",
       " 'Male',\n",
       " 'Female',\n",
       " 'Male',\n",
       " 'Female',\n",
       " 'Female',\n",
       " 'Male',\n",
       " 'Male',\n",
       " 'Female',\n",
       " 'Female',\n",
       " 'Male',\n",
       " 'Male',\n",
       " 'Male',\n",
       " 'Male',\n",
       " 'Female',\n",
       " 'Female',\n",
       " 'Male',\n",
       " 'Female',\n",
       " 'Female',\n",
       " 'Female',\n",
       " 'Female',\n",
       " 'Male',\n",
       " 'Female',\n",
       " 'Female',\n",
       " 'Male',\n",
       " 'Male',\n",
       " 'Female',\n",
       " 'Male',\n",
       " 'Female',\n",
       " 'Female',\n",
       " 'Female',\n",
       " 'Male',\n",
       " 'Male',\n",
       " 'Female',\n",
       " 'Female',\n",
       " 'Female',\n",
       " 'Male',\n",
       " 'Male',\n",
       " 'Male',\n",
       " 'Male',\n",
       " 'Male',\n",
       " 'Female',\n",
       " 'Male',\n",
       " 'Male',\n",
       " 'Female',\n",
       " 'Female',\n",
       " 'Male',\n",
       " 'Male',\n",
       " 'Female',\n",
       " 'Male',\n",
       " 'Male',\n",
       " 'Male',\n",
       " 'Female',\n",
       " 'Male',\n",
       " 'Female',\n",
       " 'Female',\n",
       " 'Male',\n",
       " 'Female',\n",
       " 'Male',\n",
       " 'Male',\n",
       " 'Female',\n",
       " 'Male',\n",
       " 'Female',\n",
       " 'Female',\n",
       " 'Male',\n",
       " 'Male',\n",
       " 'Male',\n",
       " 'Female',\n",
       " 'Male',\n",
       " 'Male',\n",
       " 'Female',\n",
       " 'Male',\n",
       " 'Female',\n",
       " 'Male',\n",
       " 'Male',\n",
       " 'Female',\n",
       " 'Male',\n",
       " 'Male',\n",
       " 'Female',\n",
       " 'Male',\n",
       " 'Female',\n",
       " 'Male',\n",
       " 'Male',\n",
       " 'Male',\n",
       " 'Male',\n",
       " 'Female',\n",
       " 'Male',\n",
       " 'Male',\n",
       " 'Male',\n",
       " 'Female',\n",
       " 'Male',\n",
       " 'Female',\n",
       " 'Male',\n",
       " 'Male',\n",
       " 'Male',\n",
       " 'Female',\n",
       " 'Male',\n",
       " 'Female',\n",
       " 'Male',\n",
       " 'Male',\n",
       " 'Female',\n",
       " 'Female',\n",
       " 'Female',\n",
       " 'Female',\n",
       " 'Male',\n",
       " 'Male',\n",
       " 'Female',\n",
       " 'Male',\n",
       " 'Male',\n",
       " 'Male',\n",
       " 'Male',\n",
       " 'Female',\n",
       " 'Female',\n",
       " 'Female',\n",
       " 'Male',\n",
       " 'Female',\n",
       " 'Female',\n",
       " 'Female',\n",
       " 'Female',\n",
       " 'Male',\n",
       " 'Male',\n",
       " 'Female',\n",
       " 'Male',\n",
       " 'Female',\n",
       " 'Female',\n",
       " 'Male',\n",
       " 'Male',\n",
       " 'Female',\n",
       " 'Male',\n",
       " 'Male',\n",
       " 'Female',\n",
       " 'Female',\n",
       " 'Female',\n",
       " 'Male',\n",
       " 'Female',\n",
       " 'Female',\n",
       " 'Male',\n",
       " 'Male',\n",
       " 'Female',\n",
       " 'Female',\n",
       " 'Male',\n",
       " 'Female',\n",
       " 'Female',\n",
       " 'Female',\n",
       " 'Male',\n",
       " 'Female',\n",
       " 'Female',\n",
       " 'Female',\n",
       " 'Male',\n",
       " 'Male',\n",
       " 'Female',\n",
       " 'Female',\n",
       " 'Male',\n",
       " 'Female',\n",
       " 'Female',\n",
       " 'Female',\n",
       " 'Male',\n",
       " 'Male',\n",
       " 'Female',\n",
       " 'Female',\n",
       " 'Female',\n",
       " 'Male',\n",
       " 'Female',\n",
       " 'Female',\n",
       " 'Male']"
      ]
     },
     "execution_count": 47,
     "metadata": {},
     "output_type": "execute_result"
    }
   ],
   "source": [
    "listofsexs"
   ]
  },
  {
   "cell_type": "code",
   "execution_count": 48,
   "id": "7909a661",
   "metadata": {},
   "outputs": [
    {
     "data": {
      "text/plain": [
       "248"
      ]
     },
     "execution_count": 48,
     "metadata": {},
     "output_type": "execute_result"
    }
   ],
   "source": [
    "len(listofsexs) #make sure I have all 248"
   ]
  },
  {
   "cell_type": "code",
   "execution_count": 49,
   "id": "91e782eb",
   "metadata": {},
   "outputs": [],
   "source": [
    "female = []#get male to female ratio - method 1 - method 2 is .value_counts()\n",
    "male = []\n",
    "\n",
    "for x in listofsexs:\n",
    "    if x == \"Male\":\n",
    "        male.append(x)\n",
    "    else:\n",
    "        female.append(x)"
   ]
  },
  {
   "cell_type": "code",
   "execution_count": 50,
   "id": "560d0ed0",
   "metadata": {},
   "outputs": [],
   "source": [
    "malecount = int(len(male)) #how many males out of 248"
   ]
  },
  {
   "cell_type": "code",
   "execution_count": 51,
   "id": "67841048",
   "metadata": {},
   "outputs": [
    {
     "data": {
      "text/plain": [
       "125"
      ]
     },
     "execution_count": 51,
     "metadata": {},
     "output_type": "execute_result"
    }
   ],
   "source": [
    "malecount"
   ]
  },
  {
   "cell_type": "code",
   "execution_count": 52,
   "id": "972ff025",
   "metadata": {},
   "outputs": [
    {
     "data": {
      "text/plain": [
       "0.5040322580645161"
      ]
     },
     "execution_count": 52,
     "metadata": {},
     "output_type": "execute_result"
    }
   ],
   "source": [
    "malecount/248 # male percent "
   ]
  },
  {
   "cell_type": "code",
   "execution_count": 53,
   "id": "a09f0660",
   "metadata": {},
   "outputs": [],
   "source": [
    "femalecount = int(len(female)) #how many females out of 248"
   ]
  },
  {
   "cell_type": "code",
   "execution_count": 54,
   "id": "6b6065da",
   "metadata": {},
   "outputs": [
    {
     "data": {
      "text/plain": [
       "123"
      ]
     },
     "execution_count": 54,
     "metadata": {},
     "output_type": "execute_result"
    }
   ],
   "source": [
    "femalecount"
   ]
  },
  {
   "cell_type": "code",
   "execution_count": 55,
   "id": "a1c46dba",
   "metadata": {},
   "outputs": [
    {
     "data": {
      "text/plain": [
       "125"
      ]
     },
     "execution_count": 55,
     "metadata": {},
     "output_type": "execute_result"
    }
   ],
   "source": [
    "malecount"
   ]
  },
  {
   "cell_type": "code",
   "execution_count": 56,
   "id": "204a6650",
   "metadata": {},
   "outputs": [],
   "source": [
    "pievalues =[] #make list of pie values for matplotlib \n",
    "pievalues.append(malecount)\n",
    "pievalues.append(femalecount)"
   ]
  },
  {
   "cell_type": "code",
   "execution_count": 57,
   "id": "3cc053d4",
   "metadata": {},
   "outputs": [
    {
     "data": {
      "text/plain": [
       "[125, 123]"
      ]
     },
     "execution_count": 57,
     "metadata": {},
     "output_type": "execute_result"
    }
   ],
   "source": [
    "pievalues"
   ]
  },
  {
   "cell_type": "code",
   "execution_count": 58,
   "id": "53c4f122",
   "metadata": {},
   "outputs": [
    {
     "data": {
      "text/plain": [
       "([<matplotlib.patches.Wedge at 0x16bded010>,\n",
       "  <matplotlib.patches.Wedge at 0x16bdeeb50>],\n",
       " [Text(-0.013934097579311132, 1.0999117423341975, 'Male'),\n",
       "  Text(0.013934097579310996, -1.0999117423341975, 'Female')],\n",
       " [Text(-0.007600416861442434, 0.5999518594550168, '50.4%'),\n",
       "  Text(0.007600416861442361, -0.5999518594550168, '49.6%')])"
      ]
     },
     "execution_count": 58,
     "metadata": {},
     "output_type": "execute_result"
    },
    {
     "data": {
      "image/png": "[encoded data removed]",
      "text/plain": [
       "<Figure size 640x480 with 1 Axes>"
      ]
     },
     "metadata": {},
     "output_type": "display_data"
    }
   ],
   "source": [
    "plt.pie(pievalues, labels = [\"Male\", \"Female\"], colors = [\"blue\", \"orange\"], autopct = \"%1.1f%%\")#matplotlib"
   ]
  },
  {
   "cell_type": "code",
   "execution_count": 59,
   "id": "02763a9d",
   "metadata": {},
   "outputs": [],
   "source": [
    "MalevsFemale = pd.DataFrame(pievalues) #make dataFrame for Pandas "
   ]
  },
  {
   "cell_type": "code",
   "execution_count": 60,
   "id": "893b0d7c",
   "metadata": {},
   "outputs": [],
   "source": [
    "MalevsFemale = MalevsFemale.rename(columns = {0: \"Sex\"}) #rename columen "
   ]
  },
  {
   "cell_type": "code",
   "execution_count": 61,
   "id": "ddfe150d",
   "metadata": {},
   "outputs": [
    {
     "data": {
      "text/html": [
       "<div>\n",
       "<style scoped>\n",
       "    .dataframe tbody tr th:only-of-type {\n",
       "        vertical-align: middle;\n",
       "    }\n",
       "\n",
       "    .dataframe tbody tr th {\n",
       "        vertical-align: top;\n",
       "    }\n",
       "\n",
       "    .dataframe thead th {\n",
       "        text-align: right;\n",
       "    }\n",
       "</style>\n",
       "<table border=\"1\" class=\"dataframe\">\n",
       "  <thead>\n",
       "    <tr style=\"text-align: right;\">\n",
       "      <th></th>\n",
       "      <th>Sex</th>\n",
       "    </tr>\n",
       "  </thead>\n",
       "  <tbody>\n",
       "    <tr>\n",
       "      <th>0</th>\n",
       "      <td>125</td>\n",
       "    </tr>\n",
       "    <tr>\n",
       "      <th>1</th>\n",
       "      <td>123</td>\n",
       "    </tr>\n",
       "  </tbody>\n",
       "</table>\n",
       "</div>"
      ],
      "text/plain": [
       "   Sex\n",
       "0  125\n",
       "1  123"
      ]
     },
     "execution_count": 61,
     "metadata": {},
     "output_type": "execute_result"
    }
   ],
   "source": [
    "MalevsFemale"
   ]
  },
  {
   "cell_type": "code",
   "execution_count": 62,
   "id": "433b2e30",
   "metadata": {},
   "outputs": [
    {
     "data": {
      "image/png": "[encoded data removed]",
      "text/plain": [
       "<Figure size 640x480 with 1 Axes>"
      ]
     },
     "metadata": {},
     "output_type": "display_data"
    }
   ],
   "source": [
    "PieChart = MalevsFemale.plot(kind = \"pie\", labels = [\"Male\", \"Female\"], autopct = \"%1.1f%%\", subplots = True)#pandas "
   ]
  },
  {
   "cell_type": "code",
   "execution_count": 63,
   "id": "0ced2c51",
   "metadata": {},
   "outputs": [],
   "source": [
    "LastValue = CleanCombined.groupby(\"Mouse ID\").last() #find last value for more analysis on final timepint volume "
   ]
  },
  {
   "cell_type": "code",
   "execution_count": 64,
   "id": "6c7dbcbd",
   "metadata": {},
   "outputs": [
    {
     "data": {
      "text/html": [
       "<div>\n",
       "<style scoped>\n",
       "    .dataframe tbody tr th:only-of-type {\n",
       "        vertical-align: middle;\n",
       "    }\n",
       "\n",
       "    .dataframe tbody tr th {\n",
       "        vertical-align: top;\n",
       "    }\n",
       "\n",
       "    .dataframe thead th {\n",
       "        text-align: right;\n",
       "    }\n",
       "</style>\n",
       "<table border=\"1\" class=\"dataframe\">\n",
       "  <thead>\n",
       "    <tr style=\"text-align: right;\">\n",
       "      <th></th>\n",
       "      <th>Drug Regimen</th>\n",
       "      <th>Sex</th>\n",
       "      <th>Age_months</th>\n",
       "      <th>Weight (g)</th>\n",
       "      <th>Timepoint</th>\n",
       "      <th>Tumor Volume (mm3)</th>\n",
       "      <th>Metastatic Sites</th>\n",
       "    </tr>\n",
       "    <tr>\n",
       "      <th>Mouse ID</th>\n",
       "      <th></th>\n",
       "      <th></th>\n",
       "      <th></th>\n",
       "      <th></th>\n",
       "      <th></th>\n",
       "      <th></th>\n",
       "      <th></th>\n",
       "    </tr>\n",
       "  </thead>\n",
       "  <tbody>\n",
       "    <tr>\n",
       "      <th>a203</th>\n",
       "      <td>Infubinol</td>\n",
       "      <td>Female</td>\n",
       "      <td>20</td>\n",
       "      <td>23</td>\n",
       "      <td>45</td>\n",
       "      <td>67.973419</td>\n",
       "      <td>2</td>\n",
       "    </tr>\n",
       "    <tr>\n",
       "      <th>a251</th>\n",
       "      <td>Infubinol</td>\n",
       "      <td>Female</td>\n",
       "      <td>21</td>\n",
       "      <td>25</td>\n",
       "      <td>45</td>\n",
       "      <td>65.525743</td>\n",
       "      <td>1</td>\n",
       "    </tr>\n",
       "    <tr>\n",
       "      <th>a262</th>\n",
       "      <td>Placebo</td>\n",
       "      <td>Female</td>\n",
       "      <td>17</td>\n",
       "      <td>29</td>\n",
       "      <td>45</td>\n",
       "      <td>70.717621</td>\n",
       "      <td>4</td>\n",
       "    </tr>\n",
       "    <tr>\n",
       "      <th>a275</th>\n",
       "      <td>Ceftamin</td>\n",
       "      <td>Female</td>\n",
       "      <td>20</td>\n",
       "      <td>28</td>\n",
       "      <td>45</td>\n",
       "      <td>62.999356</td>\n",
       "      <td>3</td>\n",
       "    </tr>\n",
       "    <tr>\n",
       "      <th>a366</th>\n",
       "      <td>Stelasyn</td>\n",
       "      <td>Female</td>\n",
       "      <td>16</td>\n",
       "      <td>29</td>\n",
       "      <td>30</td>\n",
       "      <td>63.440686</td>\n",
       "      <td>1</td>\n",
       "    </tr>\n",
       "    <tr>\n",
       "      <th>...</th>\n",
       "      <td>...</td>\n",
       "      <td>...</td>\n",
       "      <td>...</td>\n",
       "      <td>...</td>\n",
       "      <td>...</td>\n",
       "      <td>...</td>\n",
       "      <td>...</td>\n",
       "    </tr>\n",
       "    <tr>\n",
       "      <th>z435</th>\n",
       "      <td>Propriva</td>\n",
       "      <td>Female</td>\n",
       "      <td>12</td>\n",
       "      <td>26</td>\n",
       "      <td>10</td>\n",
       "      <td>48.710661</td>\n",
       "      <td>0</td>\n",
       "    </tr>\n",
       "    <tr>\n",
       "      <th>z578</th>\n",
       "      <td>Ramicane</td>\n",
       "      <td>Male</td>\n",
       "      <td>11</td>\n",
       "      <td>16</td>\n",
       "      <td>45</td>\n",
       "      <td>30.638696</td>\n",
       "      <td>0</td>\n",
       "    </tr>\n",
       "    <tr>\n",
       "      <th>z581</th>\n",
       "      <td>Infubinol</td>\n",
       "      <td>Female</td>\n",
       "      <td>24</td>\n",
       "      <td>25</td>\n",
       "      <td>45</td>\n",
       "      <td>62.754451</td>\n",
       "      <td>3</td>\n",
       "    </tr>\n",
       "    <tr>\n",
       "      <th>z795</th>\n",
       "      <td>Naftisol</td>\n",
       "      <td>Female</td>\n",
       "      <td>13</td>\n",
       "      <td>29</td>\n",
       "      <td>45</td>\n",
       "      <td>65.741070</td>\n",
       "      <td>3</td>\n",
       "    </tr>\n",
       "    <tr>\n",
       "      <th>z969</th>\n",
       "      <td>Naftisol</td>\n",
       "      <td>Male</td>\n",
       "      <td>9</td>\n",
       "      <td>30</td>\n",
       "      <td>45</td>\n",
       "      <td>73.867845</td>\n",
       "      <td>4</td>\n",
       "    </tr>\n",
       "  </tbody>\n",
       "</table>\n",
       "<p>248 rows × 7 columns</p>\n",
       "</div>"
      ],
      "text/plain": [
       "         Drug Regimen     Sex  Age_months  Weight (g)  Timepoint  \\\n",
       "Mouse ID                                                           \n",
       "a203        Infubinol  Female          20          23         45   \n",
       "a251        Infubinol  Female          21          25         45   \n",
       "a262          Placebo  Female          17          29         45   \n",
       "a275         Ceftamin  Female          20          28         45   \n",
       "a366         Stelasyn  Female          16          29         30   \n",
       "...               ...     ...         ...         ...        ...   \n",
       "z435         Propriva  Female          12          26         10   \n",
       "z578         Ramicane    Male          11          16         45   \n",
       "z581        Infubinol  Female          24          25         45   \n",
       "z795         Naftisol  Female          13          29         45   \n",
       "z969         Naftisol    Male           9          30         45   \n",
       "\n",
       "          Tumor Volume (mm3)  Metastatic Sites  \n",
       "Mouse ID                                        \n",
       "a203               67.973419                 2  \n",
       "a251               65.525743                 1  \n",
       "a262               70.717621                 4  \n",
       "a275               62.999356                 3  \n",
       "a366               63.440686                 1  \n",
       "...                      ...               ...  \n",
       "z435               48.710661                 0  \n",
       "z578               30.638696                 0  \n",
       "z581               62.754451                 3  \n",
       "z795               65.741070                 3  \n",
       "z969               73.867845                 4  \n",
       "\n",
       "[248 rows x 7 columns]"
      ]
     },
     "execution_count": 64,
     "metadata": {},
     "output_type": "execute_result"
    }
   ],
   "source": [
    "LastValue"
   ]
  },
  {
   "cell_type": "code",
   "execution_count": 65,
   "id": "52978b06",
   "metadata": {},
   "outputs": [],
   "source": [
    "mask = ((LastValue[\"Drug Regimen\"] == \"Capomulin\") | (LastValue[\"Drug Regimen\"] == \"Ramicane\") | (LastValue[\"Drug Regimen\"] == \"Infubinol\") | (LastValue[\"Drug Regimen\"] == \"Infubinol\") | (LastValue[\"Drug Regimen\"] == \"Ceftamin\"))"
   ]
  },
  {
   "cell_type": "code",
   "execution_count": 66,
   "id": "458cd5f0",
   "metadata": {},
   "outputs": [],
   "source": [
    "LastValue = LastValue.loc[mask] #sport by drugs "
   ]
  },
  {
   "cell_type": "code",
   "execution_count": 67,
   "id": "1e76cd17",
   "metadata": {},
   "outputs": [
    {
     "data": {
      "text/html": [
       "<div>\n",
       "<style scoped>\n",
       "    .dataframe tbody tr th:only-of-type {\n",
       "        vertical-align: middle;\n",
       "    }\n",
       "\n",
       "    .dataframe tbody tr th {\n",
       "        vertical-align: top;\n",
       "    }\n",
       "\n",
       "    .dataframe thead th {\n",
       "        text-align: right;\n",
       "    }\n",
       "</style>\n",
       "<table border=\"1\" class=\"dataframe\">\n",
       "  <thead>\n",
       "    <tr style=\"text-align: right;\">\n",
       "      <th></th>\n",
       "      <th>Drug Regimen</th>\n",
       "      <th>Sex</th>\n",
       "      <th>Age_months</th>\n",
       "      <th>Weight (g)</th>\n",
       "      <th>Timepoint</th>\n",
       "      <th>Tumor Volume (mm3)</th>\n",
       "      <th>Metastatic Sites</th>\n",
       "    </tr>\n",
       "    <tr>\n",
       "      <th>Mouse ID</th>\n",
       "      <th></th>\n",
       "      <th></th>\n",
       "      <th></th>\n",
       "      <th></th>\n",
       "      <th></th>\n",
       "      <th></th>\n",
       "      <th></th>\n",
       "    </tr>\n",
       "  </thead>\n",
       "  <tbody>\n",
       "    <tr>\n",
       "      <th>a203</th>\n",
       "      <td>Infubinol</td>\n",
       "      <td>Female</td>\n",
       "      <td>20</td>\n",
       "      <td>23</td>\n",
       "      <td>45</td>\n",
       "      <td>67.973419</td>\n",
       "      <td>2</td>\n",
       "    </tr>\n",
       "    <tr>\n",
       "      <th>a251</th>\n",
       "      <td>Infubinol</td>\n",
       "      <td>Female</td>\n",
       "      <td>21</td>\n",
       "      <td>25</td>\n",
       "      <td>45</td>\n",
       "      <td>65.525743</td>\n",
       "      <td>1</td>\n",
       "    </tr>\n",
       "    <tr>\n",
       "      <th>a275</th>\n",
       "      <td>Ceftamin</td>\n",
       "      <td>Female</td>\n",
       "      <td>20</td>\n",
       "      <td>28</td>\n",
       "      <td>45</td>\n",
       "      <td>62.999356</td>\n",
       "      <td>3</td>\n",
       "    </tr>\n",
       "    <tr>\n",
       "      <th>a411</th>\n",
       "      <td>Ramicane</td>\n",
       "      <td>Male</td>\n",
       "      <td>3</td>\n",
       "      <td>22</td>\n",
       "      <td>45</td>\n",
       "      <td>38.407618</td>\n",
       "      <td>1</td>\n",
       "    </tr>\n",
       "    <tr>\n",
       "      <th>a444</th>\n",
       "      <td>Ramicane</td>\n",
       "      <td>Female</td>\n",
       "      <td>10</td>\n",
       "      <td>25</td>\n",
       "      <td>45</td>\n",
       "      <td>43.047543</td>\n",
       "      <td>0</td>\n",
       "    </tr>\n",
       "    <tr>\n",
       "      <th>...</th>\n",
       "      <td>...</td>\n",
       "      <td>...</td>\n",
       "      <td>...</td>\n",
       "      <td>...</td>\n",
       "      <td>...</td>\n",
       "      <td>...</td>\n",
       "      <td>...</td>\n",
       "    </tr>\n",
       "    <tr>\n",
       "      <th>y769</th>\n",
       "      <td>Ceftamin</td>\n",
       "      <td>Female</td>\n",
       "      <td>6</td>\n",
       "      <td>27</td>\n",
       "      <td>45</td>\n",
       "      <td>68.594745</td>\n",
       "      <td>4</td>\n",
       "    </tr>\n",
       "    <tr>\n",
       "      <th>y793</th>\n",
       "      <td>Capomulin</td>\n",
       "      <td>Male</td>\n",
       "      <td>17</td>\n",
       "      <td>17</td>\n",
       "      <td>45</td>\n",
       "      <td>31.896238</td>\n",
       "      <td>2</td>\n",
       "    </tr>\n",
       "    <tr>\n",
       "      <th>y865</th>\n",
       "      <td>Ceftamin</td>\n",
       "      <td>Male</td>\n",
       "      <td>23</td>\n",
       "      <td>26</td>\n",
       "      <td>45</td>\n",
       "      <td>64.729837</td>\n",
       "      <td>3</td>\n",
       "    </tr>\n",
       "    <tr>\n",
       "      <th>z578</th>\n",
       "      <td>Ramicane</td>\n",
       "      <td>Male</td>\n",
       "      <td>11</td>\n",
       "      <td>16</td>\n",
       "      <td>45</td>\n",
       "      <td>30.638696</td>\n",
       "      <td>0</td>\n",
       "    </tr>\n",
       "    <tr>\n",
       "      <th>z581</th>\n",
       "      <td>Infubinol</td>\n",
       "      <td>Female</td>\n",
       "      <td>24</td>\n",
       "      <td>25</td>\n",
       "      <td>45</td>\n",
       "      <td>62.754451</td>\n",
       "      <td>3</td>\n",
       "    </tr>\n",
       "  </tbody>\n",
       "</table>\n",
       "<p>100 rows × 7 columns</p>\n",
       "</div>"
      ],
      "text/plain": [
       "         Drug Regimen     Sex  Age_months  Weight (g)  Timepoint  \\\n",
       "Mouse ID                                                           \n",
       "a203        Infubinol  Female          20          23         45   \n",
       "a251        Infubinol  Female          21          25         45   \n",
       "a275         Ceftamin  Female          20          28         45   \n",
       "a411         Ramicane    Male           3          22         45   \n",
       "a444         Ramicane  Female          10          25         45   \n",
       "...               ...     ...         ...         ...        ...   \n",
       "y769         Ceftamin  Female           6          27         45   \n",
       "y793        Capomulin    Male          17          17         45   \n",
       "y865         Ceftamin    Male          23          26         45   \n",
       "z578         Ramicane    Male          11          16         45   \n",
       "z581        Infubinol  Female          24          25         45   \n",
       "\n",
       "          Tumor Volume (mm3)  Metastatic Sites  \n",
       "Mouse ID                                        \n",
       "a203               67.973419                 2  \n",
       "a251               65.525743                 1  \n",
       "a275               62.999356                 3  \n",
       "a411               38.407618                 1  \n",
       "a444               43.047543                 0  \n",
       "...                      ...               ...  \n",
       "y769               68.594745                 4  \n",
       "y793               31.896238                 2  \n",
       "y865               64.729837                 3  \n",
       "z578               30.638696                 0  \n",
       "z581               62.754451                 3  \n",
       "\n",
       "[100 rows x 7 columns]"
      ]
     },
     "execution_count": 67,
     "metadata": {},
     "output_type": "execute_result"
    }
   ],
   "source": [
    "LastValue"
   ]
  },
  {
   "cell_type": "code",
   "execution_count": 68,
   "id": "333bcb3e",
   "metadata": {},
   "outputs": [],
   "source": [
    "Names = LastValue.columns"
   ]
  },
  {
   "cell_type": "code",
   "execution_count": 69,
   "id": "6ffcee33",
   "metadata": {},
   "outputs": [],
   "source": [
    "TumorVolume = Names[5] #save tumor value column name for later graph"
   ]
  },
  {
   "cell_type": "code",
   "execution_count": 70,
   "id": "4f8e3e4b",
   "metadata": {},
   "outputs": [
    {
     "data": {
      "text/plain": [
       "'Tumor Volume (mm3)'"
      ]
     },
     "execution_count": 70,
     "metadata": {},
     "output_type": "execute_result"
    }
   ],
   "source": [
    "TumorVolume"
   ]
  },
  {
   "cell_type": "code",
   "execution_count": 71,
   "id": "81122ad4",
   "metadata": {},
   "outputs": [],
   "source": [
    "Capomulin = []#list of tumor volumes per drug and graph a box plot with outliers and IQR \n",
    "Infubinol = []\n",
    "Ramicane = []\n",
    "Ceftamin = []\n",
    "\n",
    "for index,row in LastValue.iterrows():\n",
    "    if row[\"Drug Regimen\"] == \"Capomulin\":\n",
    "        Capomulin.append(row[\"Tumor Volume (mm3)\"])\n",
    "    elif row[\"Drug Regimen\"] == \"Infubinol\":\n",
    "        Infubinol.append(row[\"Tumor Volume (mm3)\"])\n",
    "    elif row[\"Drug Regimen\"] == \"Ramicane\":\n",
    "        Ramicane.append(row[\"Tumor Volume (mm3)\"])\n",
    "    elif row[\"Drug Regimen\"] == \"Ceftamin\":\n",
    "        Ceftamin.append(row[\"Tumor Volume (mm3)\"])"
   ]
  },
  {
   "cell_type": "code",
   "execution_count": 72,
   "id": "d61916ce",
   "metadata": {},
   "outputs": [],
   "source": [
    "data = pd.DataFrame({\"Capomulin\" : Capomulin, \"Ramicane\": Ramicane, \"Infubinol\": Infubinol, \"Ceftamin\": Ceftamin })#create data from "
   ]
  },
  {
   "cell_type": "code",
   "execution_count": 73,
   "id": "33348a01",
   "metadata": {},
   "outputs": [
    {
     "data": {
      "image/png": "[encoded data removed]",
      "text/plain": [
       "<Figure size 640x480 with 1 Axes>"
      ]
     },
     "metadata": {},
     "output_type": "display_data"
    }
   ],
   "source": [
    "#plot = data[[\"Capomulin\",\"Ramicane\",\"Infubinol\",\"Ceftamin\"]].plot(kind = 'box')\n",
    "listofregimen = [\"Capomulin\",\"Ramicane\",\"Infubinol\",\"Ceftamin\"]\n",
    "#plot.set_ylabel(\"Final Tumor Volume (mm3)\")\n",
    "circlesymbol = dict(markerfacecolor='red',markersize=12) #circlesymbol\n",
    "plt.boxplot(data, labels = listofregimen,flierprops=circlesymbol)\n",
    "plt.ylabel(\"Final Tumor Volume (mm3)\")\n",
    "plt.show()#crate box plot using tumor volume lists above "
   ]
  },
  {
   "cell_type": "code",
   "execution_count": 74,
   "id": "32cc9709",
   "metadata": {},
   "outputs": [],
   "source": [
    "Cap = data[\"Capomulin\"]#divide data to find IQR's etc \n",
    "Ram = data[\"Ramicane\"]\n",
    "Inf = data[\"Infubinol\"]\n",
    "Ceft = data[\"Ceftamin\"]"
   ]
  },
  {
   "cell_type": "code",
   "execution_count": 75,
   "id": "4998b7d8",
   "metadata": {},
   "outputs": [],
   "source": [
    "capquart = Cap.quantile([.25,.5,.75])#finding quartiles \n",
    "Ramquart = Ram.quantile([.25,.5,.75])\n",
    "infquart = Inf.quantile([.25,.5,.75])\n",
    "Ceftquart = Ceft.quantile([.25,.5,.75])"
   ]
  },
  {
   "cell_type": "code",
   "execution_count": 76,
   "id": "f5b6eade",
   "metadata": {},
   "outputs": [],
   "source": [
    "capiqr = capquart[.75]-capquart[.25] #cap IQR"
   ]
  },
  {
   "cell_type": "code",
   "execution_count": 77,
   "id": "dd490c1e",
   "metadata": {},
   "outputs": [],
   "source": [
    "Ramiqr = Ramquart[.75]-Ramquart[.25] #RAM IQR"
   ]
  },
  {
   "cell_type": "code",
   "execution_count": 78,
   "id": "5a54e0b0",
   "metadata": {},
   "outputs": [],
   "source": [
    "InfIqr = infquart[.75]-infquart[.25] #INF IQR"
   ]
  },
  {
   "cell_type": "code",
   "execution_count": 79,
   "id": "183cfc93",
   "metadata": {},
   "outputs": [],
   "source": [
    "CefIqr = Ceftquart[.75]-Ceftquart[.25] #CEF IQR "
   ]
  },
  {
   "cell_type": "code",
   "execution_count": 80,
   "id": "c728a54b",
   "metadata": {},
   "outputs": [],
   "source": [
    "CapUpper = capquart[.75] #find upper and lower quartiles and medians\n",
    "Caplower = capquart[.25]\n",
    "CapMed = capquart[.5]"
   ]
  },
  {
   "cell_type": "code",
   "execution_count": 81,
   "id": "ce6c2b84",
   "metadata": {},
   "outputs": [],
   "source": [
    "RamUpper = Ramquart[.75]\n",
    "RamLower = Ramquart[.25]\n",
    "RamMed = Ramquart[.5]"
   ]
  },
  {
   "cell_type": "code",
   "execution_count": 82,
   "id": "7a3525af",
   "metadata": {},
   "outputs": [],
   "source": [
    "InfUpper = infquart[.75]\n",
    "InfLower = infquart[.25]\n",
    "InfMed = infquart[.5]"
   ]
  },
  {
   "cell_type": "code",
   "execution_count": 83,
   "id": "4fc7968c",
   "metadata": {},
   "outputs": [],
   "source": [
    "CefUpper= Ceftquart[.75]\n",
    "CefLower= Ceftquart[.25]\n",
    "CefMed = Ceftquart[.5]"
   ]
  },
  {
   "cell_type": "code",
   "execution_count": 84,
   "id": "13cfa020",
   "metadata": {},
   "outputs": [],
   "source": [
    "Cefupperbound = CefUpper + (1.5* CefIqr) #find upper and lower bounds using 1.5 IQR\n",
    "CefLowerBound = CefLower - (1.5 * CefIqr)"
   ]
  },
  {
   "cell_type": "code",
   "execution_count": 85,
   "id": "4d996ce8",
   "metadata": {},
   "outputs": [],
   "source": [
    "InfUpperbound = InfUpper + (1.5* InfIqr)\n",
    "InfLowerBound = InfLower - (1.5* InfIqr)"
   ]
  },
  {
   "cell_type": "code",
   "execution_count": 86,
   "id": "f479e095",
   "metadata": {},
   "outputs": [],
   "source": [
    "RamUpperBound = RamUpper + (1.5 * Ramiqr)\n",
    "RamLowerBound = RamLower + (1.5 * Ramiqr)"
   ]
  },
  {
   "cell_type": "code",
   "execution_count": 87,
   "id": "79f946f1",
   "metadata": {},
   "outputs": [],
   "source": [
    "CapUpperBound = CapUpper + (1.5 * capiqr )\n",
    "CapLowerBound = Caplower + (1.5 * capiqr)"
   ]
  },
  {
   "cell_type": "code",
   "execution_count": 88,
   "id": "79270035",
   "metadata": {},
   "outputs": [],
   "source": [
    "Capoutlier = []# create outlier list based on bounds \n",
    "Ramoutlier = []\n",
    "Cefoutlier = []\n",
    "Infoutlier = []\n"
   ]
  },
  {
   "cell_type": "code",
   "execution_count": 89,
   "id": "17601ae2",
   "metadata": {},
   "outputs": [],
   "source": [
    "for x in Capomulin:#for loops to find outliers \n",
    "    if x < CapLowerBound or x > CapUpperBound:\n",
    "        Capoutlier.append(x)\n",
    "        "
   ]
  },
  {
   "cell_type": "code",
   "execution_count": 90,
   "id": "e2a3e969",
   "metadata": {},
   "outputs": [],
   "source": [
    "for x in Ramicane:\n",
    "    if x < RamLowerBound or x > RamUpperBound:\n",
    "        Ramoutlier.append(x)\n",
    "        "
   ]
  },
  {
   "cell_type": "code",
   "execution_count": 91,
   "id": "fa0db849",
   "metadata": {},
   "outputs": [],
   "source": [
    "for x in Ceftamin:\n",
    "    if x < CefLowerBound or x > Cefupperbound:\n",
    "        Cefoutlier.append(x)"
   ]
  },
  {
   "cell_type": "code",
   "execution_count": 92,
   "id": "70d53ef0",
   "metadata": {},
   "outputs": [],
   "source": [
    "for x in Infubinol:\n",
    "    if x < InfLowerBound or x > InfUpperbound:\n",
    "        Infoutlier.append(x)\n",
    "        "
   ]
  },
  {
   "cell_type": "code",
   "execution_count": 93,
   "id": "294f7b2d",
   "metadata": {},
   "outputs": [],
   "source": [
    "CapStatement = f\"Capomulins potential outliers: {Capoutlier}, Name: {TumorVolume}, dtype: {Cap.dtype} \" #statemetns regarding outlier "
   ]
  },
  {
   "cell_type": "code",
   "execution_count": 94,
   "id": "61cf7097",
   "metadata": {},
   "outputs": [],
   "source": [
    "RamStatement = f\"Ramicane's potential outliers: {Ramoutlier}, Name: {TumorVolume}, dtype: {Ram.dtype}\""
   ]
  },
  {
   "cell_type": "code",
   "execution_count": 95,
   "id": "4de09be8",
   "metadata": {},
   "outputs": [],
   "source": [
    "InfStatement = f\"Infubinol's potential outliers: {Infoutlier}, Name: {TumorVolume}, dtype: {Inf.dtype}\""
   ]
  },
  {
   "cell_type": "code",
   "execution_count": 96,
   "id": "be04d84d",
   "metadata": {},
   "outputs": [],
   "source": [
    "CeftStatement = f\"Ceftamin's potential outliers: {Cefoutlier}, Name: {TumorVolume}, dtype: {Ceft.dtype}\""
   ]
  },
  {
   "cell_type": "code",
   "execution_count": 97,
   "id": "d9a9d236",
   "metadata": {},
   "outputs": [
    {
     "data": {
      "text/plain": [
       "\"Infubinol's potential outliers: [36.3213458], Name: Tumor Volume (mm3), dtype: float64\""
      ]
     },
     "execution_count": 97,
     "metadata": {},
     "output_type": "execute_result"
    }
   ],
   "source": [
    "InfStatement #only outlier I found "
   ]
  },
  {
   "cell_type": "code",
   "execution_count": 98,
   "id": "79356c44",
   "metadata": {},
   "outputs": [],
   "source": [
    "Cap = []#find tumor volume at each time point \n",
    "Captime = []\n",
    "\n",
    "for index,row in CleanCombined.iterrows():\n",
    "    if row[\"Mouse ID\"] == \"l509\":\n",
    "        Cap.append(row[\"Tumor Volume (mm3)\"])\n",
    "        Captime.append(row[\"Timepoint\"])\n",
    "    \n"
   ]
  },
  {
   "cell_type": "code",
   "execution_count": 99,
   "id": "8e9402fd",
   "metadata": {},
   "outputs": [
    {
     "data": {
      "text/plain": [
       "[0, 5, 10, 15, 20, 25, 30, 35, 40, 45]"
      ]
     },
     "execution_count": 99,
     "metadata": {},
     "output_type": "execute_result"
    }
   ],
   "source": [
    "Captime #time data "
   ]
  },
  {
   "cell_type": "code",
   "execution_count": 100,
   "id": "2711724a",
   "metadata": {},
   "outputs": [
    {
     "data": {
      "text/plain": [
       "[45.0,\n",
       " 45.85119285,\n",
       " 46.75907363,\n",
       " 47.48859931,\n",
       " 48.07045162,\n",
       " 44.00625702,\n",
       " 44.70805473,\n",
       " 40.2072885,\n",
       " 40.77081259,\n",
       " 41.48300765]"
      ]
     },
     "execution_count": 100,
     "metadata": {},
     "output_type": "execute_result"
    }
   ],
   "source": [
    "Cap #volume data "
   ]
  },
  {
   "cell_type": "code",
   "execution_count": 101,
   "id": "f01a3987",
   "metadata": {},
   "outputs": [
    {
     "data": {
      "text/plain": [
       "Text(0.5, 1.0, 'Capomulin treatment of mouse l509')"
      ]
     },
     "execution_count": 101,
     "metadata": {},
     "output_type": "execute_result"
    },
    {
     "data": {
      "image/png": "[encoded data removed]",
      "text/plain": [
       "<Figure size 640x480 with 1 Axes>"
      ]
     },
     "metadata": {},
     "output_type": "display_data"
    }
   ],
   "source": [
    "plt.plot(Captime,Cap) #plotting time and volume data \n",
    "plt.ylabel(\"Tumor Volume (mm3)\")\n",
    "plt.xlabel(\"Timepoint (Days)\")\n",
    "plt.title(\"Capomulin treatment of mouse l509\")"
   ]
  },
  {
   "cell_type": "code",
   "execution_count": 102,
   "id": "e782051e",
   "metadata": {},
   "outputs": [],
   "source": [
    "ID = []#create lists fo ID weight and volume for scatter \n",
    "Weight = []\n",
    "TumorVolume = []\n",
    "for index,row in CleanCombined.iterrows():\n",
    "    if row[\"Drug Regimen\"] == \"Capomulin\":\n",
    "        ID.append(row[\"Mouse ID\"])\n",
    "        Weight.append(row[\"Weight (g)\"])\n",
    "        TumorVolume.append(row[\"Tumor Volume (mm3)\"])\n",
    "        \n",
    "        "
   ]
  },
  {
   "cell_type": "code",
   "execution_count": 103,
   "id": "5a6bb3e8",
   "metadata": {},
   "outputs": [],
   "source": [
    "DF = pd.DataFrame(ID) #create dataframe to graphy "
   ]
  },
  {
   "cell_type": "code",
   "execution_count": 104,
   "id": "25a30c00",
   "metadata": {},
   "outputs": [],
   "source": [
    "DF['Weight'] = Weight #adding weight column "
   ]
  },
  {
   "cell_type": "code",
   "execution_count": 105,
   "id": "49071031",
   "metadata": {},
   "outputs": [],
   "source": [
    "DF[\"Volume\"]= TumorVolume #adding volume column "
   ]
  },
  {
   "cell_type": "code",
   "execution_count": 106,
   "id": "5b8e6244",
   "metadata": {},
   "outputs": [],
   "source": [
    "DF = DF.rename(columns = {0:\"Mouse ID\"}) #rename "
   ]
  },
  {
   "cell_type": "code",
   "execution_count": 107,
   "id": "f028b209",
   "metadata": {},
   "outputs": [],
   "source": [
    "Capgroup = DF.groupby(\"Mouse ID\") #group the weight and volumbe by each mouse "
   ]
  },
  {
   "cell_type": "code",
   "execution_count": 108,
   "id": "6d295804",
   "metadata": {},
   "outputs": [],
   "source": [
    "AverageTumorVolume = list(Capgroup[\"Volume\"].mean()) #make list "
   ]
  },
  {
   "cell_type": "code",
   "execution_count": 109,
   "id": "a7c9996b",
   "metadata": {},
   "outputs": [],
   "source": [
    "Weight = list(Capgroup[\"Weight\"].mean()) #weight for each mouse "
   ]
  },
  {
   "cell_type": "code",
   "execution_count": 110,
   "id": "b91a4025",
   "metadata": {},
   "outputs": [
    {
     "data": {
      "text/plain": [
       "Text(0.5, 0, 'Weight')"
      ]
     },
     "execution_count": 110,
     "metadata": {},
     "output_type": "execute_result"
    },
    {
     "data": {
      "image/png": "[encoded data removed]",
      "text/plain": [
       "<Figure size 640x480 with 1 Axes>"
      ]
     },
     "metadata": {},
     "output_type": "display_data"
    }
   ],
   "source": [
    "Scatter = plt.scatter(Weight,AverageTumorVolume) #plot data above \n",
    "plt.ylabel(\"Average Tumor Volume (mm3)\")\n",
    "plt.xlabel(\"Weight\")\n"
   ]
  },
  {
   "cell_type": "code",
   "execution_count": 111,
   "id": "60734a58",
   "metadata": {},
   "outputs": [],
   "source": [
    "from scipy.stats import linregress\n",
    "x_values = Weight\n",
    "y_values = AverageTumorVolume\n",
    "(slope, intercept, rvalue, pvalue, stderr) = linregress(x_values, y_values) #just get the slope and other values "
   ]
  },
  {
   "cell_type": "code",
   "execution_count": 112,
   "id": "0df3b434",
   "metadata": {},
   "outputs": [
    {
     "name": "stdout",
     "output_type": "stream",
     "text": [
      "The r-squared value is 0.7088568047708721\n",
      "The correction between more weight and average tumor volume is 0.84\n"
     ]
    },
    {
     "data": {
      "image/png": "[encoded data removed]",
      "text/plain": [
       "<Figure size 640x480 with 1 Axes>"
      ]
     },
     "metadata": {},
     "output_type": "display_data"
    }
   ],
   "source": [
    "from scipy.stats import linregress #create scatter plot \n",
    "x_values = Capgroup[\"Weight\"].mean() # X axis values \n",
    "y_values = AverageTumorVolume #y axis values \n",
    "Scatter = plt.scatter(Weight,AverageTumorVolume) #make scatter plot \n",
    "plt.ylabel(\"Average Tumor Volume (mm3)\") #y label \n",
    "plt.xlabel(\"Weight\") #x labe \n",
    "(slope, intercept, rvalue, pvalue, stderr) = linregress(x_values, y_values) #find correlation and regression \n",
    "regress_values = x_values * slope + intercept #crate slope formula y = mx + b \n",
    "plt.plot(x_values,regress_values,\"r-\") # creat line \n",
    "line_eq = \"y = \" + str(round(slope,2)) + \"x + \" + str(round(intercept,2)) #what does slope forumula look like? \n",
    "plt.annotate(line_eq,(15,45),fontsize=15,color=\"red\") #show slope forumla \n",
    "print(f'The r-squared value is {rvalue ** 2}') #r squared meessage \n",
    "print(f'The correction between more weight and average tumor volume is {round(rvalue,2)}') #R message \n",
    "plt.show()"
   ]
  },
  {
   "cell_type": "code",
   "execution_count": 113,
   "id": "773c0283",
   "metadata": {},
   "outputs": [],
   "source": [
    "DF = CleanCombined.groupby(\"Mouse ID\").max() #method 2 for pie value_counts() "
   ]
  },
  {
   "cell_type": "code",
   "execution_count": 114,
   "id": "53cbe8fe",
   "metadata": {},
   "outputs": [
    {
     "data": {
      "text/html": [
       "<div>\n",
       "<style scoped>\n",
       "    .dataframe tbody tr th:only-of-type {\n",
       "        vertical-align: middle;\n",
       "    }\n",
       "\n",
       "    .dataframe tbody tr th {\n",
       "        vertical-align: top;\n",
       "    }\n",
       "\n",
       "    .dataframe thead th {\n",
       "        text-align: right;\n",
       "    }\n",
       "</style>\n",
       "<table border=\"1\" class=\"dataframe\">\n",
       "  <thead>\n",
       "    <tr style=\"text-align: right;\">\n",
       "      <th></th>\n",
       "      <th>Drug Regimen</th>\n",
       "      <th>Sex</th>\n",
       "      <th>Age_months</th>\n",
       "      <th>Weight (g)</th>\n",
       "      <th>Timepoint</th>\n",
       "      <th>Tumor Volume (mm3)</th>\n",
       "      <th>Metastatic Sites</th>\n",
       "    </tr>\n",
       "    <tr>\n",
       "      <th>Mouse ID</th>\n",
       "      <th></th>\n",
       "      <th></th>\n",
       "      <th></th>\n",
       "      <th></th>\n",
       "      <th></th>\n",
       "      <th></th>\n",
       "      <th></th>\n",
       "    </tr>\n",
       "  </thead>\n",
       "  <tbody>\n",
       "    <tr>\n",
       "      <th>a203</th>\n",
       "      <td>Infubinol</td>\n",
       "      <td>Female</td>\n",
       "      <td>20</td>\n",
       "      <td>23</td>\n",
       "      <td>45</td>\n",
       "      <td>67.973419</td>\n",
       "      <td>2</td>\n",
       "    </tr>\n",
       "    <tr>\n",
       "      <th>a251</th>\n",
       "      <td>Infubinol</td>\n",
       "      <td>Female</td>\n",
       "      <td>21</td>\n",
       "      <td>25</td>\n",
       "      <td>45</td>\n",
       "      <td>65.525743</td>\n",
       "      <td>1</td>\n",
       "    </tr>\n",
       "    <tr>\n",
       "      <th>a262</th>\n",
       "      <td>Placebo</td>\n",
       "      <td>Female</td>\n",
       "      <td>17</td>\n",
       "      <td>29</td>\n",
       "      <td>45</td>\n",
       "      <td>70.717621</td>\n",
       "      <td>4</td>\n",
       "    </tr>\n",
       "    <tr>\n",
       "      <th>a275</th>\n",
       "      <td>Ceftamin</td>\n",
       "      <td>Female</td>\n",
       "      <td>20</td>\n",
       "      <td>28</td>\n",
       "      <td>45</td>\n",
       "      <td>62.999356</td>\n",
       "      <td>3</td>\n",
       "    </tr>\n",
       "    <tr>\n",
       "      <th>a366</th>\n",
       "      <td>Stelasyn</td>\n",
       "      <td>Female</td>\n",
       "      <td>16</td>\n",
       "      <td>29</td>\n",
       "      <td>30</td>\n",
       "      <td>63.440686</td>\n",
       "      <td>1</td>\n",
       "    </tr>\n",
       "    <tr>\n",
       "      <th>...</th>\n",
       "      <td>...</td>\n",
       "      <td>...</td>\n",
       "      <td>...</td>\n",
       "      <td>...</td>\n",
       "      <td>...</td>\n",
       "      <td>...</td>\n",
       "      <td>...</td>\n",
       "    </tr>\n",
       "    <tr>\n",
       "      <th>z435</th>\n",
       "      <td>Propriva</td>\n",
       "      <td>Female</td>\n",
       "      <td>12</td>\n",
       "      <td>26</td>\n",
       "      <td>10</td>\n",
       "      <td>48.710661</td>\n",
       "      <td>0</td>\n",
       "    </tr>\n",
       "    <tr>\n",
       "      <th>z578</th>\n",
       "      <td>Ramicane</td>\n",
       "      <td>Male</td>\n",
       "      <td>11</td>\n",
       "      <td>16</td>\n",
       "      <td>45</td>\n",
       "      <td>45.000000</td>\n",
       "      <td>0</td>\n",
       "    </tr>\n",
       "    <tr>\n",
       "      <th>z581</th>\n",
       "      <td>Infubinol</td>\n",
       "      <td>Female</td>\n",
       "      <td>24</td>\n",
       "      <td>25</td>\n",
       "      <td>45</td>\n",
       "      <td>62.754451</td>\n",
       "      <td>3</td>\n",
       "    </tr>\n",
       "    <tr>\n",
       "      <th>z795</th>\n",
       "      <td>Naftisol</td>\n",
       "      <td>Female</td>\n",
       "      <td>13</td>\n",
       "      <td>29</td>\n",
       "      <td>45</td>\n",
       "      <td>65.741070</td>\n",
       "      <td>3</td>\n",
       "    </tr>\n",
       "    <tr>\n",
       "      <th>z969</th>\n",
       "      <td>Naftisol</td>\n",
       "      <td>Male</td>\n",
       "      <td>9</td>\n",
       "      <td>30</td>\n",
       "      <td>45</td>\n",
       "      <td>73.867845</td>\n",
       "      <td>4</td>\n",
       "    </tr>\n",
       "  </tbody>\n",
       "</table>\n",
       "<p>248 rows × 7 columns</p>\n",
       "</div>"
      ],
      "text/plain": [
       "         Drug Regimen     Sex  Age_months  Weight (g)  Timepoint  \\\n",
       "Mouse ID                                                           \n",
       "a203        Infubinol  Female          20          23         45   \n",
       "a251        Infubinol  Female          21          25         45   \n",
       "a262          Placebo  Female          17          29         45   \n",
       "a275         Ceftamin  Female          20          28         45   \n",
       "a366         Stelasyn  Female          16          29         30   \n",
       "...               ...     ...         ...         ...        ...   \n",
       "z435         Propriva  Female          12          26         10   \n",
       "z578         Ramicane    Male          11          16         45   \n",
       "z581        Infubinol  Female          24          25         45   \n",
       "z795         Naftisol  Female          13          29         45   \n",
       "z969         Naftisol    Male           9          30         45   \n",
       "\n",
       "          Tumor Volume (mm3)  Metastatic Sites  \n",
       "Mouse ID                                        \n",
       "a203               67.973419                 2  \n",
       "a251               65.525743                 1  \n",
       "a262               70.717621                 4  \n",
       "a275               62.999356                 3  \n",
       "a366               63.440686                 1  \n",
       "...                      ...               ...  \n",
       "z435               48.710661                 0  \n",
       "z578               45.000000                 0  \n",
       "z581               62.754451                 3  \n",
       "z795               65.741070                 3  \n",
       "z969               73.867845                 4  \n",
       "\n",
       "[248 rows x 7 columns]"
      ]
     },
     "execution_count": 114,
     "metadata": {},
     "output_type": "execute_result"
    }
   ],
   "source": [
    "DF"
   ]
  },
  {
   "cell_type": "code",
   "execution_count": 115,
   "id": "4fcd60b8",
   "metadata": {},
   "outputs": [],
   "source": [
    "ValueCounts = DF['Sex'].value_counts() #using value cousnts vs for loop I used before "
   ]
  },
  {
   "cell_type": "code",
   "execution_count": 116,
   "id": "c985a4d7",
   "metadata": {},
   "outputs": [
    {
     "data": {
      "image/png": "[encoded data removed]",
      "text/plain": [
       "<Figure size 640x480 with 1 Axes>"
      ]
     },
     "metadata": {},
     "output_type": "display_data"
    }
   ],
   "source": [
    "plt.pie(ValueCounts.values,labels = ValueCounts.index.values, autopct = \"%1.1f%%\")\n",
    "plt.show()"
   ]
  },
  {
   "cell_type": "code",
   "execution_count": 117,
   "id": "5463487b",
   "metadata": {},
   "outputs": [
    {
     "data": {
      "image/png": "[encoded data removed]",
      "text/plain": [
       "<Figure size 640x480 with 1 Axes>"
      ]
     },
     "metadata": {},
     "output_type": "display_data"
    }
   ],
   "source": [
    "PieChart2 = ValueCounts.plot(kind = \"pie\", labels = [\"Male\", \"Female\"], autopct = \"%1.1f%%\", subplots = True)#pandas "
   ]
  },
  {
   "cell_type": "code",
   "execution_count": null,
   "id": "88f20154",
   "metadata": {},
   "outputs": [],
   "source": []
  },
  {
   "cell_type": "code",
   "execution_count": null,
   "id": "4592bffd",
   "metadata": {},
   "outputs": [],
   "source": []
  }
 ],
 "metadata": {
  "kernelspec": {
   "display_name": "Python 3 (ipykernel)",
   "language": "python",
   "name": "python3"
  },
  "language_info": {
   "codemirror_mode": {
    "name": "ipython",
    "version": 3
   },
   "file_extension": ".py",
   "mimetype": "text/x-python",
   "name": "python",
   "nbconvert_exporter": "python",
   "pygments_lexer": "ipython3",
   "version": "3.11.5"
  }
 },
 "nbformat": 4,
 "nbformat_minor": 5
}
